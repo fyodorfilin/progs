{
 "cells": [
  {
   "cell_type": "code",
   "execution_count": 1,
   "metadata": {},
   "outputs": [],
   "source": [
    "#задаём директорию\n",
    "import os\n",
    "os.chdir('C:/Users/User/Desktop/Анализ данных/ЛР3/02_Математика профильная')"
   ]
  },
  {
   "cell_type": "code",
   "execution_count": 2,
   "metadata": {
    "scrolled": true
   },
   "outputs": [
    {
     "data": {
      "text/html": [
       "<div>\n",
       "<style scoped>\n",
       "    .dataframe tbody tr th:only-of-type {\n",
       "        vertical-align: middle;\n",
       "    }\n",
       "\n",
       "    .dataframe tbody tr th {\n",
       "        vertical-align: top;\n",
       "    }\n",
       "\n",
       "    .dataframe thead th {\n",
       "        text-align: right;\n",
       "    }\n",
       "</style>\n",
       "<table border=\"1\" class=\"dataframe\">\n",
       "  <thead>\n",
       "    <tr style=\"text-align: right;\">\n",
       "      <th></th>\n",
       "      <th>Код ППЭ</th>\n",
       "      <th>Код АТЕ</th>\n",
       "      <th>Код ОО</th>\n",
       "      <th>Класс</th>\n",
       "      <th>Пол</th>\n",
       "      <th>Номер варианта</th>\n",
       "      <th>Задания с кратким ответом</th>\n",
       "      <th>Задания с развёрнутым ответом</th>\n",
       "      <th>Устная часть</th>\n",
       "      <th>Первичный балл</th>\n",
       "      <th>Балл</th>\n",
       "      <th>Минимальный балл</th>\n",
       "    </tr>\n",
       "  </thead>\n",
       "  <tbody>\n",
       "    <tr>\n",
       "      <th>0</th>\n",
       "      <td>114</td>\n",
       "      <td>124</td>\n",
       "      <td>122403</td>\n",
       "      <td>11</td>\n",
       "      <td>Ж</td>\n",
       "      <td>341</td>\n",
       "      <td>------+-----</td>\n",
       "      <td>0(2)0(2)0(2)0(3)0(3)0(4)0(4)</td>\n",
       "      <td>NaN</td>\n",
       "      <td>1</td>\n",
       "      <td>5</td>\n",
       "      <td>27</td>\n",
       "    </tr>\n",
       "    <tr>\n",
       "      <th>1</th>\n",
       "      <td>126</td>\n",
       "      <td>128</td>\n",
       "      <td>122811</td>\n",
       "      <td>11</td>\n",
       "      <td>Ж</td>\n",
       "      <td>345</td>\n",
       "      <td>-+----------</td>\n",
       "      <td>0(2)0(2)0(2)0(3)0(3)0(4)0(4)</td>\n",
       "      <td>NaN</td>\n",
       "      <td>1</td>\n",
       "      <td>5</td>\n",
       "      <td>27</td>\n",
       "    </tr>\n",
       "    <tr>\n",
       "      <th>2</th>\n",
       "      <td>133</td>\n",
       "      <td>132</td>\n",
       "      <td>123209</td>\n",
       "      <td>11</td>\n",
       "      <td>Ж</td>\n",
       "      <td>340</td>\n",
       "      <td>-+----------</td>\n",
       "      <td>0(2)0(2)0(2)0(3)0(3)0(4)0(4)</td>\n",
       "      <td>NaN</td>\n",
       "      <td>1</td>\n",
       "      <td>5</td>\n",
       "      <td>27</td>\n",
       "    </tr>\n",
       "    <tr>\n",
       "      <th>3</th>\n",
       "      <td>138</td>\n",
       "      <td>134</td>\n",
       "      <td>123404</td>\n",
       "      <td>11</td>\n",
       "      <td>Ж</td>\n",
       "      <td>339</td>\n",
       "      <td>-+----------</td>\n",
       "      <td>0(2)0(2)0(2)0(3)0(3)0(4)0(4)</td>\n",
       "      <td>NaN</td>\n",
       "      <td>1</td>\n",
       "      <td>5</td>\n",
       "      <td>27</td>\n",
       "    </tr>\n",
       "    <tr>\n",
       "      <th>4</th>\n",
       "      <td>147</td>\n",
       "      <td>136</td>\n",
       "      <td>123603</td>\n",
       "      <td>11</td>\n",
       "      <td>Ж</td>\n",
       "      <td>348</td>\n",
       "      <td>--------+---</td>\n",
       "      <td>0(2)0(2)0(2)0(3)0(3)0(4)0(4)</td>\n",
       "      <td>NaN</td>\n",
       "      <td>1</td>\n",
       "      <td>5</td>\n",
       "      <td>27</td>\n",
       "    </tr>\n",
       "    <tr>\n",
       "      <th>5</th>\n",
       "      <td>152</td>\n",
       "      <td>136</td>\n",
       "      <td>123617</td>\n",
       "      <td>11</td>\n",
       "      <td>М</td>\n",
       "      <td>342</td>\n",
       "      <td>+-----------</td>\n",
       "      <td>0(2)0(2)0(2)0(3)0(3)0(4)0(4)</td>\n",
       "      <td>NaN</td>\n",
       "      <td>1</td>\n",
       "      <td>5</td>\n",
       "      <td>27</td>\n",
       "    </tr>\n",
       "    <tr>\n",
       "      <th>6</th>\n",
       "      <td>152</td>\n",
       "      <td>136</td>\n",
       "      <td>123617</td>\n",
       "      <td>11</td>\n",
       "      <td>М</td>\n",
       "      <td>341</td>\n",
       "      <td>+-----------</td>\n",
       "      <td>0(2)0(2)0(2)0(3)0(3)0(4)0(4)</td>\n",
       "      <td>NaN</td>\n",
       "      <td>1</td>\n",
       "      <td>5</td>\n",
       "      <td>27</td>\n",
       "    </tr>\n",
       "    <tr>\n",
       "      <th>7</th>\n",
       "      <td>114</td>\n",
       "      <td>124</td>\n",
       "      <td>122403</td>\n",
       "      <td>11</td>\n",
       "      <td>Ж</td>\n",
       "      <td>339</td>\n",
       "      <td>----+---+---</td>\n",
       "      <td>0(2)0(2)0(2)0(3)0(3)0(4)0(4)</td>\n",
       "      <td>NaN</td>\n",
       "      <td>2</td>\n",
       "      <td>9</td>\n",
       "      <td>27</td>\n",
       "    </tr>\n",
       "    <tr>\n",
       "      <th>8</th>\n",
       "      <td>146</td>\n",
       "      <td>127</td>\n",
       "      <td>122718</td>\n",
       "      <td>11</td>\n",
       "      <td>М</td>\n",
       "      <td>341</td>\n",
       "      <td>+-----+-----</td>\n",
       "      <td>0(2)0(2)0(2)0(3)0(3)0(4)0(4)</td>\n",
       "      <td>NaN</td>\n",
       "      <td>2</td>\n",
       "      <td>9</td>\n",
       "      <td>27</td>\n",
       "    </tr>\n",
       "    <tr>\n",
       "      <th>9</th>\n",
       "      <td>146</td>\n",
       "      <td>127</td>\n",
       "      <td>122758</td>\n",
       "      <td>11</td>\n",
       "      <td>Ж</td>\n",
       "      <td>343</td>\n",
       "      <td>-+-+--------</td>\n",
       "      <td>0(2)0(2)0(2)0(3)0(3)0(4)0(4)</td>\n",
       "      <td>NaN</td>\n",
       "      <td>2</td>\n",
       "      <td>9</td>\n",
       "      <td>27</td>\n",
       "    </tr>\n",
       "  </tbody>\n",
       "</table>\n",
       "</div>"
      ],
      "text/plain": [
       "   Код ППЭ  Код АТЕ  Код ОО Класс Пол  Номер варианта  \\\n",
       "0      114      124  122403    11   Ж             341   \n",
       "1      126      128  122811    11   Ж             345   \n",
       "2      133      132  123209    11   Ж             340   \n",
       "3      138      134  123404    11   Ж             339   \n",
       "4      147      136  123603    11   Ж             348   \n",
       "5      152      136  123617    11   М             342   \n",
       "6      152      136  123617    11   М             341   \n",
       "7      114      124  122403    11   Ж             339   \n",
       "8      146      127  122718    11   М             341   \n",
       "9      146      127  122758    11   Ж             343   \n",
       "\n",
       "  Задания с кратким ответом Задания с развёрнутым ответом  Устная часть  \\\n",
       "0              ------+-----  0(2)0(2)0(2)0(3)0(3)0(4)0(4)           NaN   \n",
       "1              -+----------  0(2)0(2)0(2)0(3)0(3)0(4)0(4)           NaN   \n",
       "2              -+----------  0(2)0(2)0(2)0(3)0(3)0(4)0(4)           NaN   \n",
       "3              -+----------  0(2)0(2)0(2)0(3)0(3)0(4)0(4)           NaN   \n",
       "4              --------+---  0(2)0(2)0(2)0(3)0(3)0(4)0(4)           NaN   \n",
       "5              +-----------  0(2)0(2)0(2)0(3)0(3)0(4)0(4)           NaN   \n",
       "6              +-----------  0(2)0(2)0(2)0(3)0(3)0(4)0(4)           NaN   \n",
       "7              ----+---+---  0(2)0(2)0(2)0(3)0(3)0(4)0(4)           NaN   \n",
       "8              +-----+-----  0(2)0(2)0(2)0(3)0(3)0(4)0(4)           NaN   \n",
       "9              -+-+--------  0(2)0(2)0(2)0(3)0(3)0(4)0(4)           NaN   \n",
       "\n",
       "   Первичный балл  Балл  Минимальный балл  \n",
       "0               1     5                27  \n",
       "1               1     5                27  \n",
       "2               1     5                27  \n",
       "3               1     5                27  \n",
       "4               1     5                27  \n",
       "5               1     5                27  \n",
       "6               1     5                27  \n",
       "7               2     9                27  \n",
       "8               2     9                27  \n",
       "9               2     9                27  "
      ]
     },
     "execution_count": 2,
     "metadata": {},
     "output_type": "execute_result"
    }
   ],
   "source": [
    "#загружаем файл и его первые десять строк\n",
    "import pandas as pd\n",
    "import numpy as np\n",
    "data = pd.read_excel('rating.xlsx', header = 0,nrows=2356)\n",
    "data=data.drop('№',axis=1)\n",
    "data.head(10)"
   ]
  },
  {
   "cell_type": "code",
   "execution_count": 3,
   "metadata": {},
   "outputs": [
    {
     "data": {
      "text/plain": [
       "count    2356.000000\n",
       "mean       49.255093\n",
       "std        17.880420\n",
       "min         5.000000\n",
       "25%        33.000000\n",
       "50%        50.000000\n",
       "75%        68.000000\n",
       "max        96.000000\n",
       "Name: Балл, dtype: float64"
      ]
     },
     "execution_count": 3,
     "metadata": {},
     "output_type": "execute_result"
    }
   ],
   "source": [
    "#описательная статистика по среднему баллу\n",
    "data['Балл'].describe(include='all')"
   ]
  },
  {
   "cell_type": "code",
   "execution_count": 4,
   "metadata": {},
   "outputs": [
    {
     "data": {
      "text/plain": [
       "9.21"
      ]
     },
     "execution_count": 4,
     "metadata": {},
     "output_type": "execute_result"
    }
   ],
   "source": [
    "#процент учащихся не сдавших экзамен\n",
    "round(data[data['Балл']<data['Минимальный балл']]['Балл'].count()/data['Балл'].count()*100,2)"
   ]
  },
  {
   "cell_type": "code",
   "execution_count": 5,
   "metadata": {},
   "outputs": [
    {
     "name": "stderr",
     "output_type": "stream",
     "text": [
      "C:\\Users\\User\\Anaconda3\\lib\\site-packages\\pandas\\plotting\\_core.py:2477: MatplotlibDeprecationWarning: \n",
      "The 'normed' kwarg was deprecated in Matplotlib 2.1 and will be removed in 3.1. Use 'density' instead.\n",
      "  ax.hist(values, bins=bins, **kwds)\n"
     ]
    },
    {
     "data": {
      "text/plain": [
       "<matplotlib.axes._subplots.AxesSubplot at 0x186235e36d8>"
      ]
     },
     "execution_count": 5,
     "metadata": {},
     "output_type": "execute_result"
    }
   ],
   "source": [
    "#гистограмма распределения баллов за экзамен\n",
    "import matplotlib\n",
    "data['Балл'].hist(normed=1,bins=60)"
   ]
  },
  {
   "cell_type": "code",
   "execution_count": 6,
   "metadata": {},
   "outputs": [
    {
     "data": {
      "text/plain": [
       "48.01"
      ]
     },
     "execution_count": 6,
     "metadata": {},
     "output_type": "execute_result"
    }
   ],
   "source": [
    "#процент учащихся, выполнивших работу ниже среднего\n",
    "av=data['Балл'].mean()\n",
    "round(data[data['Балл']<av]['Балл'].count()/data['Балл'].count()*100,2)"
   ]
  },
  {
   "cell_type": "code",
   "execution_count": 7,
   "metadata": {},
   "outputs": [
    {
     "data": {
      "text/plain": [
       "Text(0.5, 1.0, 'сдавшие/несдавшие')"
      ]
     },
     "execution_count": 7,
     "metadata": {},
     "output_type": "execute_result"
    },
    {
     "data": {
      "image/png": "[encoded data removed]",
      "text/plain": [
       "<Figure size 432x288 with 1 Axes>"
      ]
     },
     "metadata": {},
     "output_type": "display_data"
    }
   ],
   "source": [
    "#круговая диаграмма сдавших и не сдавших экзамен\n",
    "import matplotlib.pyplot as plt\n",
    "al=data['Балл'].count()\n",
    "nesd=data[data['Балл']<data['Минимальный балл']]['Балл'].count()\n",
    "labels=[\"Сдавшие\",\"Несдавшие\"]\n",
    "values=[(al-nesd),nesd]\n",
    "plt.pie(x=values,labels=labels,autopct=\"%1.2f%%\")\n",
    "plt.title('сдавшие/несдавшие')"
   ]
  },
  {
   "cell_type": "code",
   "execution_count": 8,
   "metadata": {},
   "outputs": [],
   "source": [
    "from scipy.stats.kde import gaussian_kde\n",
    "from numpy import linspace"
   ]
  },
  {
   "cell_type": "code",
   "execution_count": 9,
   "metadata": {},
   "outputs": [
    {
     "data": {
      "text/plain": [
       "Text(0.5, 1.0, 'гауссова плотность')"
      ]
     },
     "execution_count": 9,
     "metadata": {},
     "output_type": "execute_result"
    },
    {
     "data": {
      "image/png": "[encoded data removed]",
      "text/plain": [
       "<Figure size 432x288 with 1 Axes>"
      ]
     },
     "metadata": {
      "needs_background": "light"
     },
     "output_type": "display_data"
    }
   ],
   "source": [
    "#моделирование функции плотности распределения\n",
    "my_density = gaussian_kde(data['Балл'])\n",
    "import matplotlib.pyplot as plt\n",
    "#строится последовательность\n",
    "x = linspace(min(data['Балл']), max(data['Балл']),1000)\n",
    "plt.plot(x, my_density(x),'g')\n",
    "plt.title('гауссова плотность')"
   ]
  },
  {
   "cell_type": "code",
   "execution_count": 10,
   "metadata": {},
   "outputs": [
    {
     "data": {
      "text/plain": [
       "Text(0.5, 1.0, '% оценок')"
      ]
     },
     "execution_count": 10,
     "metadata": {},
     "output_type": "execute_result"
    },
    {
     "data": {
      "image/png": "[encoded data removed]",
      "text/plain": [
       "<Figure size 432x288 with 1 Axes>"
      ]
     },
     "metadata": {},
     "output_type": "display_data"
    }
   ],
   "source": [
    "#круговая диаграмма, демонстрирующая процентное соотношение различных оценок за экзамен\n",
    "al=data['Балл'].count()\n",
    "neud=data[data['Балл']<27]['Балл'].count()\n",
    "ud=data[(data['Балл']>=27) & (data['Балл']<60)]['Балл'].count()\n",
    "hor=data[(data['Балл']>=60) & (data['Балл']<86)]['Балл'].count()\n",
    "otl=data[data['Балл']>=86]['Балл'].count()\n",
    "labels=[\"Отличник\",\"Хорошист\",\"Троечник\",\"Двоечник\"]\n",
    "values=[otl,hor,ud,neud]\n",
    "import matplotlib.pyplot as plt\n",
    "plt.pie(x=values,labels=labels,autopct=\"%1.2f%%\")\n",
    "plt.title('% оценок')"
   ]
  },
  {
   "cell_type": "code",
   "execution_count": 11,
   "metadata": {},
   "outputs": [
    {
     "data": {
      "text/plain": [
       "Text(0.5, 1.0, 'распределение по полу')"
      ]
     },
     "execution_count": 11,
     "metadata": {},
     "output_type": "execute_result"
    },
    {
     "data": {
      "image/png": "[encoded data removed]",
      "text/plain": [
       "<Figure size 432x288 with 1 Axes>"
      ]
     },
     "metadata": {},
     "output_type": "display_data"
    }
   ],
   "source": [
    "#круговая диаграмма, демонстрирующая процентное соотношение юношей и девушек\n",
    "m=len(data[data['Пол']=='М'])\n",
    "f=len(data[data['Пол']=='Ж'])\n",
    "labels=[\"Юноши\",\"Девушки\"]\n",
    "values=[m,f]\n",
    "import matplotlib.pyplot as plt\n",
    "plt.pie(x=values,labels=labels,autopct=\"%1.2f%%\")\n",
    "plt.title('распределение по полу')"
   ]
  },
  {
   "cell_type": "code",
   "execution_count": 12,
   "metadata": {},
   "outputs": [],
   "source": [
    "#расчёт значений для графика ниже\n",
    "dgb=data.groupby('Пол')['Балл'].mean()\n",
    "av_m=round(list(dgb.values)[1],2)\n",
    "av_f=round(list(dgb.values)[0],2)\n",
    "m=list(data[data['Пол']=='М']['Балл'])\n",
    "f=list(data[data['Пол']=='Ж']['Балл'])\n",
    "f=f[0:len(m)]\n",
    "x=[i for i in range(len(m))]"
   ]
  },
  {
   "cell_type": "code",
   "execution_count": 13,
   "metadata": {},
   "outputs": [
    {
     "data": {
      "text/plain": [
       "<matplotlib.legend.Legend at 0x18625dcbe10>"
      ]
     },
     "execution_count": 13,
     "metadata": {},
     "output_type": "execute_result"
    },
    {
     "data": {
      "image/png": "[encoded data removed]",
      "text/plain": [
       "<Figure size 432x288 with 1 Axes>"
      ]
     },
     "metadata": {
      "needs_background": "light"
     },
     "output_type": "display_data"
    }
   ],
   "source": [
    "#диаграмма рассеивания оценок девушек и юношей с указанием средних значений\n",
    "import matplotlib.pyplot as plt\n",
    "plt.scatter(x,m,color='red', label='юноши')\n",
    "plt.scatter(x,f,color='blue', label='девушки')\n",
    "plt.plot(x,[av_m for i in range(len(m))],color='red')\n",
    "plt.plot(x,[av_f for i in range(len(m))],color='blue')\n",
    "plt.title('диаграмма рассеивания оценок девушек и юношей с указанием средних значений')\n",
    "plt.legend(loc=9)"
   ]
  },
  {
   "cell_type": "code",
   "execution_count": 114,
   "metadata": {},
   "outputs": [
    {
     "name": "stderr",
     "output_type": "stream",
     "text": [
      "C:\\Users\\User\\Anaconda3\\lib\\site-packages\\ipykernel_launcher.py:3: SettingWithCopyWarning: \n",
      "A value is trying to be set on a copy of a slice from a DataFrame\n",
      "\n",
      "See the caveats in the documentation: http://pandas.pydata.org/pandas-docs/stable/indexing.html#indexing-view-versus-copy\n",
      "  This is separate from the ipykernel package so we can avoid doing imports until\n",
      "C:\\Users\\User\\Anaconda3\\lib\\site-packages\\ipykernel_launcher.py:4: SettingWithCopyWarning: \n",
      "A value is trying to be set on a copy of a slice from a DataFrame\n",
      "\n",
      "See the caveats in the documentation: http://pandas.pydata.org/pandas-docs/stable/indexing.html#indexing-view-versus-copy\n",
      "  after removing the cwd from sys.path.\n",
      "C:\\Users\\User\\Anaconda3\\lib\\site-packages\\ipykernel_launcher.py:5: SettingWithCopyWarning: \n",
      "A value is trying to be set on a copy of a slice from a DataFrame\n",
      "\n",
      "See the caveats in the documentation: http://pandas.pydata.org/pandas-docs/stable/indexing.html#indexing-view-versus-copy\n",
      "  \"\"\"\n",
      "C:\\Users\\User\\Anaconda3\\lib\\site-packages\\ipykernel_launcher.py:6: SettingWithCopyWarning: \n",
      "A value is trying to be set on a copy of a slice from a DataFrame\n",
      "\n",
      "See the caveats in the documentation: http://pandas.pydata.org/pandas-docs/stable/indexing.html#indexing-view-versus-copy\n",
      "  \n"
     ]
    },
    {
     "data": {
      "text/plain": [
       "Text(0.5, 1.0, 'Разброс оценок')"
      ]
     },
     "execution_count": 114,
     "metadata": {},
     "output_type": "execute_result"
    },
    {
     "data": {
      "image/png": "[encoded data removed]",
      "text/plain": [
       "<Figure size 432x288 with 1 Axes>"
      ]
     },
     "metadata": {
      "needs_background": "light"
     },
     "output_type": "display_data"
    }
   ],
   "source": [
    "#распределение баллов участников разных подгрупп\n",
    "data['Оценка']='оценка'\n",
    "data['Оценка'][data['Балл']<27]='неуд'\n",
    "data['Оценка'][(data['Балл']>=27) & (data['Балл']<60)]='уд'\n",
    "data['Оценка'][(data['Балл']>=60) & (data['Балл']<86)]='хор'\n",
    "data['Оценка'][data['Балл']>=86]='отл'\n",
    "import matplotlib.pyplot \n",
    "import matplotlib.pyplot as plt\n",
    "#конструкция для построения сразу нескольких графиков\n",
    "data.boxplot(column='Балл', by='Оценка')\n",
    "plt.title('Разброс оценок')"
   ]
  },
  {
   "cell_type": "code",
   "execution_count": 15,
   "metadata": {},
   "outputs": [
    {
     "data": {
      "text/plain": [
       "Text(0.5, 1.0, 'средний балл по ате')"
      ]
     },
     "execution_count": 15,
     "metadata": {},
     "output_type": "execute_result"
    },
    {
     "data": {
      "image/png": "[encoded data removed]",
      "text/plain": [
       "<Figure size 432x288 with 1 Axes>"
      ]
     },
     "metadata": {
      "needs_background": "light"
     },
     "output_type": "display_data"
    }
   ],
   "source": [
    "#график среднего балла\n",
    "av_mark=data.groupby('Код АТЕ')['Балл'].count()\n",
    "av_m=list(av_mark.values)\n",
    "x=list(av_mark.index)\n",
    "import matplotlib.pyplot as plt\n",
    "plt.plot(x,av_m)\n",
    "plt.title('средний балл по ате')"
   ]
  },
  {
   "cell_type": "code",
   "execution_count": 16,
   "metadata": {},
   "outputs": [
    {
     "data": {
      "text/plain": [
       "17"
      ]
     },
     "execution_count": 16,
     "metadata": {},
     "output_type": "execute_result"
    }
   ],
   "source": [
    "#количество школ, принимающих экзамены\n",
    "len(data['Код АТЕ'].unique())"
   ]
  },
  {
   "cell_type": "code",
   "execution_count": 17,
   "metadata": {},
   "outputs": [
    {
     "data": {
      "text/plain": [
       "12"
      ]
     },
     "execution_count": 17,
     "metadata": {},
     "output_type": "execute_result"
    }
   ],
   "source": [
    "#количество заданий с кратким ответом\n",
    "len(data.loc[0,'Задания с кратким ответом'])"
   ]
  },
  {
   "cell_type": "code",
   "execution_count": 18,
   "metadata": {},
   "outputs": [
    {
     "data": {
      "text/plain": [
       "7"
      ]
     },
     "execution_count": 18,
     "metadata": {},
     "output_type": "execute_result"
    }
   ],
   "source": [
    "#количество заданий с развёрнутым ответом\n",
    "int(len(data.loc[0,'Задания с развёрнутым ответом'])/4)"
   ]
  },
  {
   "cell_type": "code",
   "execution_count": 55,
   "metadata": {},
   "outputs": [],
   "source": [
    "#подготовка данных\n",
    "short_ans = pd.DataFrame(data['Задания с кратким ответом'].str.split(pat='',expand=True))\n",
    "short_ans=short_ans.drop([0], axis=1)\n",
    "short_ans=short_ans.drop([short_ans.shape[1]], axis=1)\n",
    "long_ans = pd.DataFrame(data['Задания с развёрнутым ответом'].str.split(pat='',expand=True))\n",
    "long_ans=long_ans.drop([0], axis=1)\n",
    "long_ans=long_ans.drop([long_ans.shape[1]], axis=1)\n",
    "ll=long_ans.shape[1]\n",
    "delt=[]\n",
    "for i in range(2,ll+1,2):\n",
    "    delt.append(i)\n",
    "long_ans=long_ans.drop(delt, axis=1)  \n",
    "delt=[]\n",
    "for i in range(3,ll,4):\n",
    "    delt.append(i)\n",
    "long_ans=long_ans.drop(delt, axis=1)  \n",
    "long_ans.columns=[i for i in range(1,int(len(data.loc[0,'Задания с развёрнутым ответом'])/4)+1)]"
   ]
  },
  {
   "cell_type": "code",
   "execution_count": 20,
   "metadata": {},
   "outputs": [
    {
     "data": {
      "text/plain": [
       "Text(0.5, 1.0, 'Задание № B1')"
      ]
     },
     "execution_count": 20,
     "metadata": {},
     "output_type": "execute_result"
    },
    {
     "data": {
      "image/png": "[encoded data removed]",
      "text/plain": [
       "<Figure size 432x288 with 1 Axes>"
      ]
     },
     "metadata": {},
     "output_type": "display_data"
    }
   ],
   "source": [
    "#демонстрация распределения сдавших/несдавших задание части В\n",
    "#no - впишите нужный номер задачи\n",
    "no=1\n",
    "sd=short_ans.loc[short_ans.loc[:,no]=='+'][no].count()\n",
    "nesd=len(short_ans)-sd\n",
    "values=[sd,nesd]\n",
    "labels=['Сдавшие','Несдавшие']\n",
    "import matplotlib.pyplot as plt\n",
    "plt.pie(x=values,labels=labels,autopct=\"%1.2f%%\")\n",
    "plt.title('Задание № B'+str(no))"
   ]
  },
  {
   "cell_type": "code",
   "execution_count": 21,
   "metadata": {},
   "outputs": [
    {
     "name": "stderr",
     "output_type": "stream",
     "text": [
      "C:\\Users\\User\\Anaconda3\\lib\\site-packages\\pandas\\plotting\\_core.py:2410: MatplotlibDeprecationWarning: \n",
      "The 'normed' kwarg was deprecated in Matplotlib 2.1 and will be removed in 3.1. Use 'density' instead.\n",
      "  ax.hist(data[col].dropna().values, bins=bins, **kwds)\n"
     ]
    },
    {
     "data": {
      "text/plain": [
       "Text(0.5, 1.0, 'распределение % выполненных заданий части В')"
      ]
     },
     "execution_count": 21,
     "metadata": {},
     "output_type": "execute_result"
    },
    {
     "data": {
      "image/png": "[encoded data removed]",
      "text/plain": [
       "<Figure size 432x288 with 1 Axes>"
      ]
     },
     "metadata": {
      "needs_background": "light"
     },
     "output_type": "display_data"
    }
   ],
   "source": [
    "#гистограмма % выполненных заданий части В\n",
    "pr_sd=[]\n",
    "for no in range(1,13):\n",
    "    sd=short_ans.loc[short_ans.loc[:,no]=='+'][no].count()\n",
    "    pr_sd.append(round(sd/len(short_ans)*100,2))\n",
    "import matplotlib    \n",
    "pd.DataFrame(pr_sd).hist(bins=5, normed=1)\n",
    "import matplotlib.pyplot as plt\n",
    "plt.title(\"распределение % выполненных заданий части В\")"
   ]
  },
  {
   "cell_type": "code",
   "execution_count": 22,
   "metadata": {},
   "outputs": [
    {
     "data": {
      "text/plain": [
       "Text(0.5, 1.0, '% выполненных заданий части В')"
      ]
     },
     "execution_count": 22,
     "metadata": {},
     "output_type": "execute_result"
    },
    {
     "data": {
      "image/png": "[encoded data removed]",
      "text/plain": [
       "<Figure size 432x288 with 1 Axes>"
      ]
     },
     "metadata": {
      "needs_background": "light"
     },
     "output_type": "display_data"
    }
   ],
   "source": [
    "#диаграмма рассеивания % выполненных заданий части В\n",
    "x=[i for i in range(len(pr_sd))]\n",
    "import matplotlib.pyplot as plt\n",
    "plt.scatter(x,pr_sd,color='blue')\n",
    "plt.title('% выполненных заданий части В')"
   ]
  },
  {
   "cell_type": "code",
   "execution_count": 23,
   "metadata": {},
   "outputs": [
    {
     "data": {
      "text/plain": [
       "Text(0.5, 1.0, 'Задание № C7')"
      ]
     },
     "execution_count": 23,
     "metadata": {},
     "output_type": "execute_result"
    },
    {
     "data": {
      "image/png": "[encoded data removed]",
      "text/plain": [
       "<Figure size 432x288 with 1 Axes>"
      ]
     },
     "metadata": {},
     "output_type": "display_data"
    }
   ],
   "source": [
    "#демонстрация распределения сдавших/несдавших задание части С\n",
    "#no - впишите нужный номер задачи\n",
    "no=7\n",
    "nesd=long_ans.loc[long_ans.loc[:,no]=='0'][no].count()\n",
    "onep=long_ans.loc[long_ans.loc[:,no]=='1'][no].count()\n",
    "twop=long_ans.loc[long_ans.loc[:,no]=='2'][no].count()\n",
    "threep=long_ans.loc[long_ans.loc[:,no]=='3'][no].count()\n",
    "fourp=long_ans.loc[long_ans.loc[:,no]=='4'][no].count()\n",
    "if no<=3:\n",
    "    values=[nesd,onep,twop]\n",
    "    labels=['Несдавшие','1 балл', '2 балла'] \n",
    "elif no<=5:\n",
    "    values=[nesd,onep,twop,threep]\n",
    "    labels=['Несдавшие','1 балл', '2 балла','3 балла']\n",
    "elif ((no>5)&(no<=7)):\n",
    "    values=[nesd,onep,twop,threep,fourp]\n",
    "    labels=['Несдавшие','1 балл', '2 балла','3 балла','4 балла']\n",
    "import matplotlib.pyplot as plt\n",
    "plt.pie(x=values,labels=labels,autopct=\"%1.2f%%\")\n",
    "plt.title('Задание № C'+str(no))"
   ]
  },
  {
   "cell_type": "code",
   "execution_count": 24,
   "metadata": {},
   "outputs": [
    {
     "data": {
      "text/plain": [
       "Text(0.5, 1.0, 'распределение % выполненных заданий части C')"
      ]
     },
     "execution_count": 24,
     "metadata": {},
     "output_type": "execute_result"
    },
    {
     "data": {
      "image/png": "[encoded data removed]",
      "text/plain": [
       "<Figure size 432x288 with 1 Axes>"
      ]
     },
     "metadata": {
      "needs_background": "light"
     },
     "output_type": "display_data"
    }
   ],
   "source": [
    "#гистограмма % выполненных заданий части C\n",
    "pr_sd=[]\n",
    "for no in range(1,8):\n",
    "    sd=len(long_ans)-long_ans.loc[long_ans.loc[:,no]=='0'][no].count()\n",
    "    pr_sd.append(round(sd/len(long_ans)*100,2))\n",
    "pr_sd    \n",
    "import matplotlib    \n",
    "pd.DataFrame(pr_sd).hist(bins=5, normed=1)\n",
    "import matplotlib.pyplot as plt\n",
    "plt.title(\"распределение % выполненных заданий части C\")"
   ]
  },
  {
   "cell_type": "code",
   "execution_count": 25,
   "metadata": {},
   "outputs": [
    {
     "data": {
      "text/plain": [
       "Text(0.5, 1.0, '% выполненных заданий части C')"
      ]
     },
     "execution_count": 25,
     "metadata": {},
     "output_type": "execute_result"
    },
    {
     "data": {
      "image/png": "[encoded data removed]",
      "text/plain": [
       "<Figure size 432x288 with 1 Axes>"
      ]
     },
     "metadata": {
      "needs_background": "light"
     },
     "output_type": "display_data"
    }
   ],
   "source": [
    "#диаграмма рассеивания % выполненных заданий части C\n",
    "x=[i for i in range(len(pr_sd))]\n",
    "import matplotlib.pyplot as plt\n",
    "plt.scatter(x,pr_sd,color='blue')\n",
    "plt.title('% выполненных заданий части C')"
   ]
  },
  {
   "cell_type": "code",
   "execution_count": 26,
   "metadata": {},
   "outputs": [],
   "source": [
    "#подготовка данных для сравнительного анализа двух школ\n",
    "sch1=data['Код АТЕ'].unique()[0]\n",
    "sch2=data['Код АТЕ'].unique()[1]\n",
    "data_sch1=data[data['Код АТЕ']==sch1]\n",
    "data_sch2=data[data['Код АТЕ']==sch2]"
   ]
  },
  {
   "cell_type": "code",
   "execution_count": 27,
   "metadata": {},
   "outputs": [
    {
     "data": {
      "text/html": [
       "<div>\n",
       "<style scoped>\n",
       "    .dataframe tbody tr th:only-of-type {\n",
       "        vertical-align: middle;\n",
       "    }\n",
       "\n",
       "    .dataframe tbody tr th {\n",
       "        vertical-align: top;\n",
       "    }\n",
       "\n",
       "    .dataframe thead th {\n",
       "        text-align: right;\n",
       "    }\n",
       "</style>\n",
       "<table border=\"1\" class=\"dataframe\">\n",
       "  <thead>\n",
       "    <tr style=\"text-align: right;\">\n",
       "      <th></th>\n",
       "      <th>Балл</th>\n",
       "      <th>Первичный балл</th>\n",
       "    </tr>\n",
       "  </thead>\n",
       "  <tbody>\n",
       "    <tr>\n",
       "      <th>count</th>\n",
       "      <td>35.000000</td>\n",
       "      <td>35.000000</td>\n",
       "    </tr>\n",
       "    <tr>\n",
       "      <th>mean</th>\n",
       "      <td>36.542857</td>\n",
       "      <td>7.542857</td>\n",
       "    </tr>\n",
       "    <tr>\n",
       "      <th>std</th>\n",
       "      <td>16.310125</td>\n",
       "      <td>3.109216</td>\n",
       "    </tr>\n",
       "    <tr>\n",
       "      <th>min</th>\n",
       "      <td>5.000000</td>\n",
       "      <td>1.000000</td>\n",
       "    </tr>\n",
       "    <tr>\n",
       "      <th>25%</th>\n",
       "      <td>27.000000</td>\n",
       "      <td>6.000000</td>\n",
       "    </tr>\n",
       "    <tr>\n",
       "      <th>50%</th>\n",
       "      <td>33.000000</td>\n",
       "      <td>7.000000</td>\n",
       "    </tr>\n",
       "    <tr>\n",
       "      <th>75%</th>\n",
       "      <td>45.000000</td>\n",
       "      <td>9.000000</td>\n",
       "    </tr>\n",
       "    <tr>\n",
       "      <th>max</th>\n",
       "      <td>72.000000</td>\n",
       "      <td>15.000000</td>\n",
       "    </tr>\n",
       "  </tbody>\n",
       "</table>\n",
       "</div>"
      ],
      "text/plain": [
       "            Балл  Первичный балл\n",
       "count  35.000000       35.000000\n",
       "mean   36.542857        7.542857\n",
       "std    16.310125        3.109216\n",
       "min     5.000000        1.000000\n",
       "25%    27.000000        6.000000\n",
       "50%    33.000000        7.000000\n",
       "75%    45.000000        9.000000\n",
       "max    72.000000       15.000000"
      ]
     },
     "execution_count": 27,
     "metadata": {},
     "output_type": "execute_result"
    }
   ],
   "source": [
    "#описательная статистика для первой школы\n",
    "data_sch1.loc[:,['Балл','Первичный балл']].describe(include='all')"
   ]
  },
  {
   "cell_type": "code",
   "execution_count": 28,
   "metadata": {},
   "outputs": [
    {
     "data": {
      "text/html": [
       "<div>\n",
       "<style scoped>\n",
       "    .dataframe tbody tr th:only-of-type {\n",
       "        vertical-align: middle;\n",
       "    }\n",
       "\n",
       "    .dataframe tbody tr th {\n",
       "        vertical-align: top;\n",
       "    }\n",
       "\n",
       "    .dataframe thead th {\n",
       "        text-align: right;\n",
       "    }\n",
       "</style>\n",
       "<table border=\"1\" class=\"dataframe\">\n",
       "  <thead>\n",
       "    <tr style=\"text-align: right;\">\n",
       "      <th></th>\n",
       "      <th>Балл</th>\n",
       "      <th>Первичный балл</th>\n",
       "    </tr>\n",
       "  </thead>\n",
       "  <tbody>\n",
       "    <tr>\n",
       "      <th>count</th>\n",
       "      <td>113.000000</td>\n",
       "      <td>113.000000</td>\n",
       "    </tr>\n",
       "    <tr>\n",
       "      <th>mean</th>\n",
       "      <td>44.115044</td>\n",
       "      <td>8.920354</td>\n",
       "    </tr>\n",
       "    <tr>\n",
       "      <th>std</th>\n",
       "      <td>16.071688</td>\n",
       "      <td>3.082617</td>\n",
       "    </tr>\n",
       "    <tr>\n",
       "      <th>min</th>\n",
       "      <td>5.000000</td>\n",
       "      <td>1.000000</td>\n",
       "    </tr>\n",
       "    <tr>\n",
       "      <th>25%</th>\n",
       "      <td>39.000000</td>\n",
       "      <td>8.000000</td>\n",
       "    </tr>\n",
       "    <tr>\n",
       "      <th>50%</th>\n",
       "      <td>45.000000</td>\n",
       "      <td>9.000000</td>\n",
       "    </tr>\n",
       "    <tr>\n",
       "      <th>75%</th>\n",
       "      <td>56.000000</td>\n",
       "      <td>11.000000</td>\n",
       "    </tr>\n",
       "    <tr>\n",
       "      <th>max</th>\n",
       "      <td>76.000000</td>\n",
       "      <td>17.000000</td>\n",
       "    </tr>\n",
       "  </tbody>\n",
       "</table>\n",
       "</div>"
      ],
      "text/plain": [
       "             Балл  Первичный балл\n",
       "count  113.000000      113.000000\n",
       "mean    44.115044        8.920354\n",
       "std     16.071688        3.082617\n",
       "min      5.000000        1.000000\n",
       "25%     39.000000        8.000000\n",
       "50%     45.000000        9.000000\n",
       "75%     56.000000       11.000000\n",
       "max     76.000000       17.000000"
      ]
     },
     "execution_count": 28,
     "metadata": {},
     "output_type": "execute_result"
    }
   ],
   "source": [
    "#описательная статистика для второй школы\n",
    "data_sch2.loc[:,['Балл','Первичный балл']].describe(include='all')"
   ]
  },
  {
   "cell_type": "code",
   "execution_count": 98,
   "metadata": {},
   "outputs": [
    {
     "data": {
      "text/plain": [
       "Text(0.5, 1.0, 'Сравнение средних баллов двух школ')"
      ]
     },
     "execution_count": 98,
     "metadata": {},
     "output_type": "execute_result"
    },
    {
     "data": {
      "image/png": "[encoded data removed]",
      "text/plain": [
       "<Figure size 432x288 with 1 Axes>"
      ]
     },
     "metadata": {
      "needs_background": "light"
     },
     "output_type": "display_data"
    }
   ],
   "source": [
    "#Сравнение средних баллов двух школ\n",
    "comp=pd.DataFrame()\n",
    "comp['Средний балл школы1']=data_sch1.loc[:,['Балл']].mean()\n",
    "comp['Средний балл школы2']=data_sch2.loc[:,['Балл']].mean()\n",
    "import matplotlib.pyplot \n",
    "import matplotlib.pyplot as plt\n",
    "comp.plot(kind='bar',color=['blue','green'])\n",
    "plt.title(\"Сравнение средних баллов двух школ\")"
   ]
  },
  {
   "cell_type": "code",
   "execution_count": 29,
   "metadata": {},
   "outputs": [
    {
     "data": {
      "text/plain": [
       "22.86"
      ]
     },
     "execution_count": 29,
     "metadata": {},
     "output_type": "execute_result"
    }
   ],
   "source": [
    "#процент несдавших для первой школы\n",
    "round(data_sch1[data_sch1['Балл']<data_sch1['Минимальный балл']]['Балл'].count()/data_sch1['Балл'].count()*100,2)"
   ]
  },
  {
   "cell_type": "code",
   "execution_count": 30,
   "metadata": {},
   "outputs": [
    {
     "data": {
      "text/plain": [
       "15.04"
      ]
     },
     "execution_count": 30,
     "metadata": {},
     "output_type": "execute_result"
    }
   ],
   "source": [
    "#процент несдавших для второй школы\n",
    "round(data_sch2[data_sch2['Балл']<data_sch2['Минимальный балл']]['Балл'].count()/data_sch2['Балл'].count()*100,2)"
   ]
  },
  {
   "cell_type": "code",
   "execution_count": 31,
   "metadata": {},
   "outputs": [
    {
     "data": {
      "text/plain": [
       "65.71"
      ]
     },
     "execution_count": 31,
     "metadata": {},
     "output_type": "execute_result"
    }
   ],
   "source": [
    "#процент написавших ниже среднего для первой школы\n",
    "av=data_sch1['Балл'].mean()\n",
    "round(data_sch1[data_sch1['Балл']<av]['Балл'].count()/data_sch1['Балл'].count()*100,2)"
   ]
  },
  {
   "cell_type": "code",
   "execution_count": 32,
   "metadata": {},
   "outputs": [
    {
     "data": {
      "text/plain": [
       "44.25"
      ]
     },
     "execution_count": 32,
     "metadata": {},
     "output_type": "execute_result"
    }
   ],
   "source": [
    "#процент написавших ниже среднего для второй школы\n",
    "av=data_sch2['Балл'].mean()\n",
    "round(data_sch2[data_sch2['Балл']<av]['Балл'].count()/data_sch2['Балл'].count()*100,2)"
   ]
  },
  {
   "cell_type": "code",
   "execution_count": 65,
   "metadata": {},
   "outputs": [
    {
     "data": {
      "image/png": "[encoded data removed]",
      "text/plain": [
       "<Figure size 432x288 with 1 Axes>"
      ]
     },
     "metadata": {},
     "output_type": "display_data"
    }
   ],
   "source": [
    "#распределение по оценкам для первой школы\n",
    "al=data_sch1['Балл'].count()\n",
    "neud=data_sch1[data_sch1['Балл']<27]['Балл'].count()\n",
    "ud=data_sch1[(data_sch1['Балл']>=27) & (data_sch1['Балл']<60)]['Балл'].count()\n",
    "hor=data_sch1[(data_sch1['Балл']>=60) & (data_sch1['Балл']<86)]['Балл'].count()\n",
    "otl=data_sch1[data_sch1['Балл']>=86]['Балл'].count()\n",
    "labels=[\"Отличник\",\"Хорошист\",\"Троечник\",\"Двоечник\"]\n",
    "values=[otl,hor,ud,neud]\n",
    "import matplotlib.pyplot as plt\n",
    "plt.pie(x=values,labels=labels,autopct=\"%1.2f%%\")\n",
    "plt.title('% оценок')\n",
    "m1=[]\n",
    "m1.append(neud)\n",
    "m1.append(ud)\n",
    "m1.append(hor)\n",
    "m1.append(otl)"
   ]
  },
  {
   "cell_type": "code",
   "execution_count": 66,
   "metadata": {},
   "outputs": [
    {
     "data": {
      "image/png": "[encoded data removed]",
      "text/plain": [
       "<Figure size 432x288 with 1 Axes>"
      ]
     },
     "metadata": {},
     "output_type": "display_data"
    }
   ],
   "source": [
    "#распределение по оценкам для второй школы\n",
    "al=data_sch2['Балл'].count()\n",
    "neud=data_sch2[data_sch2['Балл']<27]['Балл'].count()\n",
    "ud=data_sch2[(data_sch2['Балл']>=27) & (data_sch2['Балл']<60)]['Балл'].count()\n",
    "hor=data_sch2[(data_sch2['Балл']>=60) & (data_sch2['Балл']<86)]['Балл'].count()\n",
    "otl=data_sch2[data_sch2['Балл']>=86]['Балл'].count()\n",
    "labels=[\"Отличник\",\"Хорошист\",\"Троечник\",\"Двоечник\"]\n",
    "values=[otl,hor,ud,neud]\n",
    "import matplotlib.pyplot as plt\n",
    "plt.pie(x=values,labels=labels,autopct=\"%1.2f%%\")\n",
    "plt.title('% оценок')\n",
    "m2=[]\n",
    "m2.append(neud)\n",
    "m2.append(ud)\n",
    "m2.append(hor)\n",
    "m2.append(otl)"
   ]
  },
  {
   "cell_type": "code",
   "execution_count": 95,
   "metadata": {},
   "outputs": [
    {
     "data": {
      "text/plain": [
       "Text(0.5, 1.0, 'Сравнение оценок двух школ')"
      ]
     },
     "execution_count": 95,
     "metadata": {},
     "output_type": "execute_result"
    },
    {
     "data": {
      "image/png": "[encoded data removed]",
      "text/plain": [
       "<Figure size 432x288 with 1 Axes>"
      ]
     },
     "metadata": {
      "needs_background": "light"
     },
     "output_type": "display_data"
    }
   ],
   "source": [
    "#сравнение школ по оценкам\n",
    "comp=pd.DataFrame(index=['Двоечник','Троечник','Хорошист','Отличник'])\n",
    "comp['Школа 1']=m1\n",
    "comp['Школа 2']=m2\n",
    "import matplotlib.pyplot \n",
    "import matplotlib.pyplot as plt\n",
    "comp.plot(kind='bar',color=['blue','green'])\n",
    "plt.title(\"Сравнение оценок двух школ\")"
   ]
  },
  {
   "cell_type": "code",
   "execution_count": 81,
   "metadata": {},
   "outputs": [
    {
     "data": {
      "text/plain": [
       "Text(0.5, 1.0, 'Задание № B1')"
      ]
     },
     "execution_count": 81,
     "metadata": {},
     "output_type": "execute_result"
    },
    {
     "data": {
      "image/png": "[encoded data removed]",
      "text/plain": [
       "<Figure size 432x288 with 1 Axes>"
      ]
     },
     "metadata": {},
     "output_type": "display_data"
    }
   ],
   "source": [
    "#подготовка данных\n",
    "#демонстрация распределения сдавших/несдавших задание части В для первой школы\n",
    "#no - впишите нужный номер задачи\n",
    "no=1\n",
    "short_ans = pd.DataFrame(data_sch1['Задания с кратким ответом'].str.split(pat='',expand=True))\n",
    "short_ans=short_ans.drop([0], axis=1)\n",
    "short_ans=short_ans.drop([short_ans.shape[1]], axis=1)\n",
    "long_ans = pd.DataFrame(data_sch1['Задания с развёрнутым ответом'].str.split(pat='',expand=True))\n",
    "long_ans=long_ans.drop([0], axis=1)\n",
    "long_ans=long_ans.drop([long_ans.shape[1]], axis=1)\n",
    "ll=long_ans.shape[1]\n",
    "delt=[]\n",
    "for i in range(2,ll+1,2):\n",
    "    delt.append(i)\n",
    "long_ans=long_ans.drop(delt, axis=1)  \n",
    "delt=[]\n",
    "for i in range(3,ll,4):\n",
    "    delt.append(i)\n",
    "long_ans=long_ans.drop(delt, axis=1)  \n",
    "long_ans.columns=[i for i in range(1,int(len(data_sch1.loc[0,'Задания с развёрнутым ответом'])/4)+1)]\n",
    "sd=short_ans.loc[short_ans.loc[:,no]=='+'][no].count()\n",
    "nesd=len(short_ans)-sd\n",
    "values=[sd,nesd]\n",
    "labels=['Сдавшие','Несдавшие']\n",
    "import matplotlib.pyplot as plt\n",
    "plt.pie(x=values,labels=labels,autopct=\"%1.2f%%\")\n",
    "plt.title('Задание № B'+str(no))"
   ]
  },
  {
   "cell_type": "code",
   "execution_count": 83,
   "metadata": {},
   "outputs": [
    {
     "data": {
      "image/png": "[encoded data removed]",
      "text/plain": [
       "<Figure size 432x288 with 1 Axes>"
      ]
     },
     "metadata": {},
     "output_type": "display_data"
    }
   ],
   "source": [
    "#демонстрация распределения сдавших/несдавших задание части С для первой школы\n",
    "#no - впишите нужный номер задачи\n",
    "no=2\n",
    "nesd=long_ans.loc[long_ans.loc[:,no]=='0'][no].count()\n",
    "onep=long_ans.loc[long_ans.loc[:,no]=='1'][no].count()\n",
    "twop=long_ans.loc[long_ans.loc[:,no]=='2'][no].count()\n",
    "threep=long_ans.loc[long_ans.loc[:,no]=='3'][no].count()\n",
    "fourp=long_ans.loc[long_ans.loc[:,no]=='4'][no].count()\n",
    "if no<=3:\n",
    "    values=[nesd,onep,twop]\n",
    "    labels=['Несдавшие','1 балл', '2 балла'] \n",
    "elif no<=5:\n",
    "    values=[nesd,onep,twop,threep]\n",
    "    labels=['Несдавшие','1 балл', '2 балла','3 балла']\n",
    "elif ((no>5)&(no<=7)):\n",
    "    values=[nesd,onep,twop,threep,fourp]\n",
    "    labels=['Несдавшие','1 балл', '2 балла','3 балла','4 балла']\n",
    "import matplotlib.pyplot as plt\n",
    "plt.pie(x=values,labels=labels,autopct=\"%1.2f%%\")\n",
    "plt.title('Задание № C'+str(no))\n",
    "c1=[]\n",
    "c1.append(long_ans.loc[long_ans.loc[:,1]=='1'][1].count())\n",
    "c1.append(long_ans.loc[long_ans.loc[:,2]=='1'][2].count())\n",
    "c1.append(long_ans.loc[long_ans.loc[:,3]=='1'][3].count())"
   ]
  },
  {
   "cell_type": "code",
   "execution_count": 84,
   "metadata": {},
   "outputs": [
    {
     "data": {
      "text/plain": [
       "Text(0.5, 1.0, 'Задание № B1')"
      ]
     },
     "execution_count": 84,
     "metadata": {},
     "output_type": "execute_result"
    },
    {
     "data": {
      "image/png": "[encoded data removed]",
      "text/plain": [
       "<Figure size 432x288 with 1 Axes>"
      ]
     },
     "metadata": {},
     "output_type": "display_data"
    }
   ],
   "source": [
    "#подготовка данных\n",
    "#демонстрация распределения сдавших/несдавших задание части В для второй школы\n",
    "#no - впишите нужный номер задачи\n",
    "no=1\n",
    "short_ans = pd.DataFrame(data_sch2['Задания с кратким ответом'].str.split(pat='',expand=True))\n",
    "short_ans=short_ans.drop([0], axis=1)\n",
    "short_ans=short_ans.drop([short_ans.shape[1]], axis=1)\n",
    "long_ans = pd.DataFrame(data_sch2['Задания с развёрнутым ответом'].str.split(pat='',expand=True))\n",
    "long_ans=long_ans.drop([0], axis=1)\n",
    "long_ans=long_ans.drop([long_ans.shape[1]], axis=1)\n",
    "ll=long_ans.shape[1]\n",
    "delt=[]\n",
    "for i in range(2,ll+1,2):\n",
    "    delt.append(i)\n",
    "long_ans=long_ans.drop(delt, axis=1)  \n",
    "delt=[]\n",
    "for i in range(3,ll,4):\n",
    "    delt.append(i)\n",
    "long_ans=long_ans.drop(delt, axis=1)  \n",
    "long_ans.columns=[i for i in range(1,int(len(data_sch2.loc[1,'Задания с развёрнутым ответом'])/4)+1)]\n",
    "sd=short_ans.loc[short_ans.loc[:,no]=='+'][no].count()\n",
    "nesd=len(short_ans)-sd\n",
    "values=[sd,nesd]\n",
    "labels=['Сдавшие','Несдавшие']\n",
    "import matplotlib.pyplot as plt\n",
    "plt.pie(x=values,labels=labels,autopct=\"%1.2f%%\")\n",
    "plt.title('Задание № B'+str(no))"
   ]
  },
  {
   "cell_type": "code",
   "execution_count": 86,
   "metadata": {},
   "outputs": [
    {
     "data": {
      "image/png": "[encoded data removed]",
      "text/plain": [
       "<Figure size 432x288 with 1 Axes>"
      ]
     },
     "metadata": {},
     "output_type": "display_data"
    }
   ],
   "source": [
    "#демонстрация распределения сдавших/несдавших задание части С для второй школы\n",
    "#no - впишите нужный номер задачи\n",
    "no=2\n",
    "nesd=long_ans.loc[long_ans.loc[:,no]=='0'][no].count()\n",
    "onep=long_ans.loc[long_ans.loc[:,no]=='1'][no].count()\n",
    "twop=long_ans.loc[long_ans.loc[:,no]=='2'][no].count()\n",
    "threep=long_ans.loc[long_ans.loc[:,no]=='3'][no].count()\n",
    "fourp=long_ans.loc[long_ans.loc[:,no]=='4'][no].count()\n",
    "if no<=3:\n",
    "    values=[nesd,onep,twop]\n",
    "    labels=['Несдавшие','1 балл', '2 балла'] \n",
    "elif no<=5:\n",
    "    values=[nesd,onep,twop,threep]\n",
    "    labels=['Несдавшие','1 балл', '2 балла','3 балла']\n",
    "elif ((no>5)&(no<=7)):\n",
    "    values=[nesd,onep,twop,threep,fourp]\n",
    "    labels=['Несдавшие','1 балл', '2 балла','3 балла','4 балла']\n",
    "import matplotlib.pyplot as plt\n",
    "plt.pie(x=values,labels=labels,autopct=\"%1.2f%%\")\n",
    "plt.title('Задание № C'+str(no))\n",
    "c2=[]\n",
    "c2.append(long_ans.loc[long_ans.loc[:,1]=='1'][1].count())\n",
    "c2.append(long_ans.loc[long_ans.loc[:,2]=='1'][2].count())\n",
    "c2.append(long_ans.loc[long_ans.loc[:,3]=='1'][3].count())"
   ]
  },
  {
   "cell_type": "code",
   "execution_count": 99,
   "metadata": {},
   "outputs": [
    {
     "data": {
      "text/plain": [
       "Text(0.5, 1.0, 'Сравнение оценок за C1,C2,C3 двух школ')"
      ]
     },
     "execution_count": 99,
     "metadata": {},
     "output_type": "execute_result"
    },
    {
     "data": {
      "image/png": "[encoded data removed]",
      "text/plain": [
       "<Figure size 432x288 with 1 Axes>"
      ]
     },
     "metadata": {
      "needs_background": "light"
     },
     "output_type": "display_data"
    }
   ],
   "source": [
    "#сравнение школ по выполнению >50% С1,С2 и С3\n",
    "comp=pd.DataFrame(index=['C1','C2','C3'])\n",
    "comp['Школа 1']=c1\n",
    "comp['Школа 2']=c2\n",
    "import matplotlib.pyplot \n",
    "import matplotlib.pyplot as plt\n",
    "comp.plot(kind='bar',color=['blue','green'])\n",
    "plt.title(\"Сравнение оценок за C1,C2,C3 двух школ\")"
   ]
  }
 ],
 "metadata": {
  "kernelspec": {
   "display_name": "Python 3",
   "language": "python",
   "name": "python3"
  },
  "language_info": {
   "codemirror_mode": {
    "name": "ipython",
    "version": 3
   },
   "file_extension": ".py",
   "mimetype": "text/x-python",
   "name": "python",
   "nbconvert_exporter": "python",
   "pygments_lexer": "ipython3",
   "version": "3.7.3"
  }
 },
 "nbformat": 4,
 "nbformat_minor": 2
}
